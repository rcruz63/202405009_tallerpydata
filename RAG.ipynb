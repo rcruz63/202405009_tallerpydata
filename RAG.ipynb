{
 "cells": [
  {
   "cell_type": "markdown",
   "id": "45272911-d21b-4dee-a522-e173b7591894",
   "metadata": {},
   "source": [
    "# CLIENTE RAG"
   ]
  },
  {
   "cell_type": "code",
   "execution_count": 4,
   "id": "daabad8e-e39e-4a27-abaf-865e5c3ebd4d",
   "metadata": {},
   "outputs": [],
   "source": [
    "import os\n",
    "os.environ[\"OPENAI_API_KEY\"] = \"***REMOVED***\"\n",
    "\n",
    "import openai\n",
    "client = openai.OpenAI()"
   ]
  },
  {
   "cell_type": "code",
   "execution_count": 7,
   "id": "83a42ada-85d6-46ba-8bf2-5d31c7b46ec4",
   "metadata": {},
   "outputs": [],
   "source": [
    "import inspect\n",
    "import openai\n",
    "from functools import lru_cache\n",
    "\n",
    "_cache = {}\n",
    "\n",
    "def make_cache_key(kwargs):\n",
    "    def convert_to_hashable(value):\n",
    "        if isinstance(value, dict):\n",
    "            return frozenset((k, convert_to_hashable(v)) for k, v in sorted(value.items()))\n",
    "        elif isinstance(value, list):\n",
    "            return tuple(convert_to_hashable(v) for v in value)\n",
    "        elif isinstance(value, set):\n",
    "            return frozenset(convert_to_hashable(v) for v in value)\n",
    "        else:\n",
    "            return value\n",
    "\n",
    "    return frozenset((k, convert_to_hashable(v)) for k, v in sorted(kwargs.items()))\n",
    "\n",
    "def llm(**kwargs):\n",
    "    \n",
    "    key = make_cache_key(kwargs)\n",
    "    try:\n",
    "        return _cache[key]\n",
    "    except KeyError:\n",
    "        _cache[key] = result = client.chat.completions.create(**kwargs)\n",
    "        return result\n",
    "\n",
    "@lru_cache(3000)\n",
    "def get_embedding(text, model=\"text-embedding-3-large\"):\n",
    "\n",
    "    client = openai.OpenAI()\n",
    "    text = text.replace(\"\\n\", \" \")\n",
    "    return client.embeddings.create(input=[text], model=model).data[0].embedding\n",
    "\n",
    "\n",
    "def get_module_functions(module_name):\n",
    "    module = __import__(module_name)\n",
    "    functions = []\n",
    "\n",
    "    for name, obj in inspect.getmembers(module):\n",
    "        if inspect.isfunction(obj) and obj.__module__ == module_name:\n",
    "            ds = inspect.getdoc(obj)\n",
    "            function_info = {\n",
    "                \"name\": name,\n",
    "                \"docstring\": ds\n",
    "            }\n",
    "            if ds:\n",
    "                functions.append(function_info)\n",
    "\n",
    "    return functions"
   ]
  },
  {
   "cell_type": "code",
   "execution_count": 39,
   "id": "c0f4a791-993c-4348-b63a-b9103d733d70",
   "metadata": {
    "scrolled": true
   },
   "outputs": [],
   "source": [
    "import inspect\n",
    "import builtins\n",
    "\n",
    "def get_module_builtins(module_name):\n",
    "    # Importar el módulo usando __import__\n",
    "    module = __import__(module_name)\n",
    "    functions = []\n",
    "\n",
    "    # Obtener todos los miembros del módulo\n",
    "    for name, obj in inspect.getmembers(module):\n",
    "        # Verificar si el objeto es una función\n",
    "        if inspect.isfunction(obj) or inspect.isbuiltin(obj):\n",
    "            # Obtener la docstring de la función\n",
    "            ds = inspect.getdoc(obj)\n",
    "            function_info = {\n",
    "                \"name\": name,\n",
    "                \"docstring\": ds\n",
    "            }\n",
    "            # Añadir la función a la lista si tiene una docstring\n",
    "            if ds:\n",
    "                functions.append(function_info)\n",
    "\n",
    "    return functions\n"
   ]
  },
  {
   "cell_type": "code",
   "execution_count": 19,
   "id": "5b7677d9-6e96-4069-83a3-1bd3e73b8280",
   "metadata": {},
   "outputs": [
    {
     "data": {
      "text/plain": [
       "25"
      ]
     },
     "execution_count": 19,
     "metadata": {},
     "output_type": "execute_result"
    }
   ],
   "source": [
    "# Ejemplo de uso\n",
    "builtins_functions = get_module_builtins(\"builtins\")\n",
    "print(len(builtins_functions))\n",
    "for func in builtins_functions:\n",
    "    # print(func[\"name\"], \":\", func[\"docstring\"])\n",
    "    print(func[\"name\"])\n"
   ]
  },
  {
   "cell_type": "code",
   "execution_count": 41,
   "id": "882b95e1-f631-4c43-8ad6-87a51df6565c",
   "metadata": {},
   "outputs": [],
   "source": [
    "names = [x[\"name\"] for x in builtins_functions]\n",
    "chunks = [x[\"docstring\"] for x in builtins_functions]\n",
    "embeddings = [get_embedding(name + \"\\n\\n\" + doc[:50]) for (name, doc) in zip(names, chunks)]"
   ]
  },
  {
   "cell_type": "code",
   "execution_count": 43,
   "id": "8ac5ca5b-72a6-4ea2-8980-80a6708a8c38",
   "metadata": {},
   "outputs": [],
   "source": [
    "import numpy as np\n",
    "\n",
    "def cosine_similarity(a, b):\n",
    "    return np.dot(a, b) / (np.linalg.norm(a) * np.linalg.norm(b))\n",
    "\n",
    "def query_bbdd(query, top_n=5):\n",
    "    query_embedding = get_embedding(query)\n",
    "    \n",
    "    # Calcula la similitud coseno entre la consulta y cada embedding de los chunks\n",
    "    similarities = [cosine_similarity(query_embedding, embedding) for embedding in embeddings]\n",
    "    \n",
    "    # Obtiene los índices de los top-n chunks más similares\n",
    "    top_indices = np.argsort(similarities)[-top_n:]\n",
    "    \n",
    "    # Recupera los top-n chunks más similares junto con su similitud coseno\n",
    "    top_chunks = [(names[i], chunks[i], similarities[i]) for i in top_indices]\n",
    "    \n",
    "    return top_chunks"
   ]
  },
  {
   "cell_type": "code",
   "execution_count": null,
   "id": "33549fc3-fabc-48bf-b484-cf1e73421ac3",
   "metadata": {},
   "outputs": [],
   "source": []
  }
 ],
 "metadata": {
  "kernelspec": {
   "display_name": "Python 3 (ipykernel)",
   "language": "python",
   "name": "python3"
  },
  "language_info": {
   "codemirror_mode": {
    "name": "ipython",
    "version": 3
   },
   "file_extension": ".py",
   "mimetype": "text/x-python",
   "name": "python",
   "nbconvert_exporter": "python",
   "pygments_lexer": "ipython3",
   "version": "3.11.7"
  }
 },
 "nbformat": 4,
 "nbformat_minor": 5
}
