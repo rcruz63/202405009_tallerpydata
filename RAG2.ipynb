{
 "cells": [
  {
   "cell_type": "markdown",
   "id": "478a0689-6847-4051-9df8-c66f655dc51e",
   "metadata": {},
   "source": [
    "# RAG 2"
   ]
  },
  {
   "cell_type": "code",
   "execution_count": 4,
   "id": "1a848b6d-3958-4bf8-9cfb-cb207c840e80",
   "metadata": {},
   "outputs": [],
   "source": [
    "import openai\n",
    "import numpy as np\n",
    "import inspect\n",
    "from functools import lru_cache\n",
    "import requests\n",
    "from bs4 import BeautifulSoup"
   ]
  },
  {
   "cell_type": "code",
   "execution_count": 182,
   "id": "643cefba-5011-4d35-9dde-4a8bf4e790a2",
   "metadata": {},
   "outputs": [],
   "source": [
    "from dotenv import load_dotenv\n",
    "import os\n",
    "\n",
    "load_dotenv()\n",
    "openai_api_key = os.getenv('OPENAI_API_KEY')\n",
    "\n",
    "import openai\n",
    "client = openai.OpenAI()"
   ]
  },
  {
   "cell_type": "code",
   "execution_count": 8,
   "id": "8b2a58eb-5db4-41f9-9c1a-56dcdf85e29d",
   "metadata": {},
   "outputs": [],
   "source": [
    "# Cache para las respuestas\n",
    "_cache = {}\n",
    "\n",
    "# Función para crear claves de caché\n",
    "def make_cache_key(kwargs):\n",
    "    def convert_to_hashable(value):\n",
    "        if isinstance(value, dict):\n",
    "            return frozenset((k, convert_to_hashable(v)) for k, v in sorted(value.items()))\n",
    "        elif isinstance(value, list):\n",
    "            return tuple(convert_to_hashable(v) for v in value)\n",
    "        elif isinstance(value, set):\n",
    "            return frozenset(convert_to_hashable(v) for v in value)\n",
    "        else:\n",
    "            return value\n",
    "\n",
    "    return frozenset((k, convert_to_hashable(v)) for k, v in sorted(kwargs.items()))\n",
    "\n",
    "# Función que interactúa con la API de OpenAI y utiliza la caché\n",
    "def llm(**kwargs):\n",
    "    key = make_cache_key(kwargs)\n",
    "    try:\n",
    "        return _cache[key]\n",
    "    except KeyError:\n",
    "        _cache[key] = result = client.chat.completions.create(**kwargs)\n",
    "        return result\n",
    "\n",
    "# Decorador para la caché LRU\n",
    "@lru_cache(3000)\n",
    "def get_embedding(text, model=\"text-embedding-3-large\"):\n",
    "    client = openai.OpenAI()\n",
    "    text = text.replace(\"\\n\", \" \")\n",
    "    return client.embeddings.create(input=[text], model=model).data[0].embedding\n",
    "\n",
    "# Función para obtener funciones de un módulo\n",
    "def get_module_functions(module_name):\n",
    "    module = __import__(module_name)\n",
    "    functions = []\n",
    "\n",
    "    for name, obj in inspect.getmembers(module):\n",
    "        if inspect.isfunction(obj) or inspect.isbuiltin(obj):\n",
    "            ds = inspect.getdoc(obj)\n",
    "            function_info = {\n",
    "                \"name\": name,\n",
    "                \"docstring\": ds\n",
    "            }\n",
    "            if ds:\n",
    "                functions.append(function_info)\n",
    "\n",
    "    return functions"
   ]
  },
  {
   "cell_type": "code",
   "execution_count": 119,
   "id": "0bfdd127-c03c-4d29-b225-c984607c3020",
   "metadata": {},
   "outputs": [
    {
     "name": "stdout",
     "output_type": "stream",
     "text": [
      "Resumen generado por OpenAI: El texto es utilizado como ejemplo para mostrar cómo funciona la generación de resúmenes utilizando OpenAI.\n"
     ]
    }
   ],
   "source": [
    "# Función para generar resúmenes utilizando OpenAI\n",
    "def generate_summary(text, max_tokens=3000):\n",
    "    prompt = f\"Resumir el siguiente texto:\\n{text}\\n\\nResumen:\"\n",
    "    response = client.completions.create(\n",
    "        model=\"gpt-3.5-turbo-instruct\",  # Selecciona el modelo adecuado\n",
    "        prompt=prompt,\n",
    "        max_tokens=max_tokens\n",
    "    )\n",
    "    summary = response.choices[0].text.strip()\n",
    "    return summary\n",
    "\n",
    "# Ejemplo de uso de la función\n",
    "text_to_summarize = \"Este es un largo texto que queremos resumir utilizando OpenAI. Podemos usar este texto como ejemplo para ver cómo funciona la generación de resúmenes.\"\n",
    "summary = generate_summary(text_to_summarize)\n",
    "print(\"Resumen generado por OpenAI:\", summary)\n"
   ]
  },
  {
   "cell_type": "code",
   "execution_count": 10,
   "id": "fe1c6ed7-cafb-40c0-8181-e4155650e056",
   "metadata": {},
   "outputs": [],
   "source": [
    "# Función para calcular la similitud coseno\n",
    "def cosine_similarity(a, b):\n",
    "    return np.dot(a, b) / (np.linalg.norm(a) * np.linalg.norm(b))\n",
    "\n",
    "# Función para consultar la base de datos\n",
    "def query_bbdd(query, top_n=5):\n",
    "    query_embedding = get_embedding(query)\n",
    "    \n",
    "    # Calcular la similitud coseno entre la consulta y cada embedding de los chunks\n",
    "    similarities = [cosine_similarity(query_embedding, embedding) for embedding in embeddings]\n",
    "    \n",
    "    # Obtener los índices de los top-n chunks más similares\n",
    "    top_indices = np.argsort(similarities)[-top_n:]\n",
    "    \n",
    "    # Recuperar los top-n chunks más similares junto con su similitud coseno\n",
    "    top_chunks = [(names[i], chunks[i], similarities[i]) for i in top_indices]\n",
    "    \n",
    "    return top_chunks"
   ]
  },
  {
   "cell_type": "code",
   "execution_count": 14,
   "id": "7ad61872-db8b-4f69-956e-9f7d0ba40fca",
   "metadata": {},
   "outputs": [],
   "source": [
    "# Ejemplos predefinidos (pueden ser preguntas frecuentes o ejemplos de código)\n",
    "# examples = [\n",
    "#     {\"question\": \"¿Cómo defino una función en Python?\", \"answer\": \"Puedes definir una función en Python usando la palabra clave 'def' seguida del nombre de la función y paréntesis. Por ejemplo:\\n\\n```python\\ndef mi_funcion():\\n    print('Hola Mundo')\\n```\"},\n",
    "#     {\"question\": \"¿Cómo uso listas en Python?\", \"answer\": \"Las listas en Python se definen usando corchetes. Puedes añadir, eliminar y acceder a elementos en una lista. Por ejemplo:\\n\\n```python\\nmi_lista = [1, 2, 3]\\nmi_lista.append(4)\\nprint(mi_lista)  # Salida: [1, 2, 3, 4]\\n```\"},\n",
    "#    # Añade más ejemplos según sea necesario\n",
    "# ]\n",
    "\n",
    "# Extraer nombres y embeddings de los ejemplos\n",
    "# names = [example[\"question\"] for example in examples]\n",
    "# chunks = [example[\"answer\"] for example in examples]\n",
    "# embeddings = [get_embedding(name) for name in names]\n",
    "\n",
    "# Función principal del chatbot\n",
    "# def chatbot(query):\n",
    "#    # Buscar en la base de datos para encontrar ejemplos relevantes\n",
    "#    results = query_bbdd(query)\n",
    "    \n",
    "    # Generar la respuesta basada en los ejemplos encontrados\n",
    "#    response = \"\"\n",
    "#    for name, chunk, similarity in results:\n",
    "#        response += f\"Pregunta: {name}\\nRespuesta: {chunk}\\n\\n\"\n",
    "\n",
    "#    return response\n",
    "\n",
    "# Ejemplo de uso del chatbot\n",
    "# query = \"¿Cómo defino una función en Python?\"\n",
    "# response = chatbot(query)\n",
    "# print(response)"
   ]
  },
  {
   "cell_type": "code",
   "execution_count": 135,
   "id": "16a4eb21-88fb-4807-825a-865601f434c4",
   "metadata": {},
   "outputs": [],
   "source": [
    "# Función para extraer contenido de una URL\n",
    "def extract_text_from_url(url):\n",
    "    response = requests.get(url)\n",
    "    soup = BeautifulSoup(response.text, 'html.parser')\n",
    "    text = soup.get_text()\n",
    "    summary = generate_summary(text[:3000], max_tokens=300)\n",
    "    # paragraphs = soup.find_all('p')\n",
    "    # return ' '.join([para.get_text() for para in paragraphs])\n",
    "    return summary"
   ]
  },
  {
   "cell_type": "code",
   "execution_count": 131,
   "id": "087f2440-8432-4e55-a202-88a8254d7cd1",
   "metadata": {},
   "outputs": [],
   "source": [
    "# URLs de páginas específicas de Python.org\n",
    "# urls = {\n",
    "#    \"Comenzar con Python\":\"https://docs.python.org/3/tutorial/appetite.html\",\n",
    "#    \"Utilizando el Interprete\":\"https://docs.python.org/3/tutorial/interpreter.html\",\n",
    "#    \"Introducción\":\"https://docs.python.org/3/tutorial/introduction.html\",\n",
    "#    \"Control de Flujo\":\"https://docs.python.org/3/tutorial/controlflow.html\",\n",
    "#    \"Estructuras de Datos\":\"https://docs.python.org/3/tutorial/datastructures.html\",\n",
    "#    \"Modulos\":\"https://docs.python.org/3/tutorial/modules.html\",\n",
    "#    \"Entrada y Salida\":\"https://docs.python.org/3/tutorial/modules.html\",\n",
    "#    \"Errores y Excepciones\":\"https://docs.python.org/3/tutorial/errors.html\",\n",
    "#    \"Clases\":\"https://docs.python.org/3/tutorial/classes.html\",\n",
    "#    \"Librería Estandar\":\"https://docs.python.org/3/tutorial/stdlib.html\",\n",
    "#    \"Más Librería Estandar\":\"https://docs.python.org/3/tutorial/stdlib2.html\",\n",
    "#    \"Entornos virtuales y Paquetes\":\"https://docs.python.org/3/tutorial/stdlib2.html\",\n",
    "#    \"Más Información\":\"https://docs.python.org/3/tutorial/whatnow.html\",\n",
    "#    \"Interprete Interactivo\":\"https://docs.python.org/3/tutorial/interactive.html\",\n",
    "#    \"Limitaciones de Coma Flotante\":\"https://docs.python.org/3/tutorial/floatingpoint.html\",\n",
    "#    \"Apendice\":\"https://docs.python.org/3/tutorial/appendix.html\"\n",
    "    # Añade más URLs relevantes\n",
    "# }\n",
    "\n",
    "urls = {\n",
    "    \"Definir una Función\": \"https://docs.python.org/3/tutorial/controlflow.html#defining-functions\",\n",
    "    \"Listas en Python\": \"https://docs.python.org/3/tutorial/introduction.html#lists\",\n",
    "    \"Tuplas y Secuencias\": \"https://docs.python.org/3/tutorial/datastructures.html#tuples-and-sequences\",\n",
    "    \"Diccionarios en Python\": \"https://docs.python.org/3/tutorial/datastructures.html#dictionaries\",\n",
    "    \"Sets\": \"https://docs.python.org/3/tutorial/datastructures.html#sets\",\n",
    "    \"Estructuras de Control de Flujo\": \"https://docs.python.org/3/tutorial/controlflow.html\",\n",
    "    \"Sentencias Condicionales\": \"https://docs.python.org/3/tutorial/controlflow.html#if-statements\",\n",
    "    \"Bucles While\": \"https://docs.python.org/3/tutorial/introduction.html#first-steps-towards-programming\",\n",
    "    \"Bucles For\": \"https://docs.python.org/3/tutorial/controlflow.html#for-statements\",\n",
    "    \"Funciones Lambda\": \"https://docs.python.org/3/tutorial/controlflow.html#lambda-expressions\",\n",
    "    \"Manejo de Excepciones\": \"https://docs.python.org/3/tutorial/errors.html\",\n",
    "    \"Clases y Objetos\": \"https://docs.python.org/3/tutorial/classes.html\",\n",
    "    \"Herencia en Python\": \"https://docs.python.org/3/tutorial/classes.html#inheritance\",\n",
    "    \"Módulos en Python\": \"https://docs.python.org/3/tutorial/modules.html\",\n",
    "    \"Entrada y Salida de Archivos\": \"https://docs.python.org/3/tutorial/inputoutput.html\",\n",
    "    \"Manejo de Argumentos de Línea de Comandos\": \"https://docs.python.org/3/library/argparse.html\",\n",
    "    \"Expresiones Regulares\": \"https://docs.python.org/3/library/re.html\",\n",
    "    \"Gestión de Fechas y Horas\": \"https://docs.python.org/3/library/datetime.html\",\n",
    "    \"Operaciones de Sistema\": \"https://docs.python.org/3/library/os.html\",\n",
    "    \"Interactuando con el Sistema Operativo\": \"https://docs.python.org/3/library/os.path.html\"\n",
    "}"
   ]
  },
  {
   "cell_type": "code",
   "execution_count": 137,
   "id": "623d2793-9ec1-4578-91b6-c1094bce7110",
   "metadata": {},
   "outputs": [],
   "source": [
    "# Extraer el contenido de las URLs y calcular sus embeddings\n",
    "names = list(urls.keys())\n",
    "chunks = [extract_text_from_url(url) for url in urls.values()]\n",
    "embeddings = [get_embedding(chunk) for chunk in chunks]"
   ]
  },
  {
   "cell_type": "code",
   "execution_count": 31,
   "id": "4c64c561-867c-4df3-9e9c-b4b3838f1745",
   "metadata": {},
   "outputs": [],
   "source": [
    "PROMPT_TEMPLATE = f\"\"\"\n",
    "Eres un chatbot experto en la biblioteca estándar de Python. \n",
    "\n",
    "Debes ayudar a explicar código Python, comentar código Python, corregir código Python o desarrollar código Python. \n",
    "NO debes contestar ninguna pregunta NO relacionada con Python. Si te hacen alguna pregunta no relacionada con Python DEBES rechazar responder amablemente.\n",
    "\n",
    "Utiliza la siguiente base de conocimientos para responder a la pregunta del usuario:\n",
    "\n",
    "Base de conocimientos: {context}\n",
    "\n",
    "---\n",
    "\n",
    "Usuario: {question}\n",
    "\"\"\""
   ]
  },
  {
   "cell_type": "code",
   "execution_count": 33,
   "id": "4fc4d681-390e-4167-8f73-bdd174889e8c",
   "metadata": {},
   "outputs": [],
   "source": [
    "# Función principal del chatbot\n",
    "def chatbot(query):\n",
    "    # Buscar en la base de datos para encontrar ejemplos relevantes\n",
    "    results = query_bbdd(query)\n",
    "    \n",
    "    # Generar la respuesta basada en los ejemplos encontrados\n",
    "    response = \"\"\n",
    "    for name, chunk, similarity in results:\n",
    "        response += f\"Pregunta: {name}\\nRespuesta: {chunk}\\n\\n\"\n",
    "\n",
    "    return response"
   ]
  },
  {
   "cell_type": "code",
   "execution_count": null,
   "id": "354c5197-23a7-42f9-8ee5-58c7dd52810d",
   "metadata": {
    "scrolled": true
   },
   "outputs": [],
   "source": [
    "query_bbdd(\"¿Cómo defino una función en Python?\")"
   ]
  },
  {
   "cell_type": "code",
   "execution_count": 178,
   "id": "b6601ffb-c0aa-4e1f-8638-2dd62c3bb8fb",
   "metadata": {},
   "outputs": [],
   "source": [
    "def chatbot_rag(pregunta):\n",
    "\n",
    "    results = query_bbdd(pregunta)\n",
    "    if len(results) == 0:\n",
    "        print(f\"Unable to find matching results.\")\n",
    "        return\n",
    "\n",
    "    context = \"\\n\\n---\\n\\n\".join([doc for _name, doc, _score in results])\n",
    "    messages=[\n",
    "        {\"role\": \"system\", \"content\": f\"\"\"\n",
    "Eres un chatbot experto en la biblioteca estándar de Python. \n",
    "\n",
    "Debes ayudar a explicar código Python, comentar código Python, corregir código Python o desarrollar código Python. \n",
    "NO debes contestar ninguna pregunta NO relacionada con Python. \n",
    "Si te hacen alguna pregunta no relacionada con Python DEBES rechazar responder amablemente y hacer un chiste.\n",
    "\n",
    "\n",
    "Utiliza la siguiente base de conocimientos para responder a la pregunta del usuario:\n",
    "\n",
    "Base de conocimientos: {context}\n",
    "\n",
    "\"\"\"},\n",
    "        {\"role\": \"user\", \"content\": pregunta}\n",
    "]\n",
    "    # print(prompt)\n",
    "\n",
    "    response_text = llm(max_tokens=3000, model=\"gpt-3.5-turbo-1106\",\n",
    "                                       messages=messages)\n",
    "\n",
    "\n",
    "    # print(response_text)\n",
    "    return response_text"
   ]
  },
  {
   "cell_type": "code",
   "execution_count": 180,
   "id": "9a390a8d-8e19-4514-b647-e348200e69e3",
   "metadata": {
    "scrolled": true
   },
   "outputs": [
    {
     "name": "stdout",
     "output_type": "stream",
     "text": [
      "¡Claro, te puedo ayudar a preparar una \"tortilla de patatas\" en Python! Primero, necesitaríamos importar el módulo \"cocina\" y luego usar la función \"preparar_tortilla\" para crear la receta. ¡Ups! Parece que me equivoqué, ¡tú querías una receta de cocina, no de programación! 😄\n"
     ]
    }
   ],
   "source": [
    "# Ejemplo de uso del chatbot\n",
    "query = \"¿Cómo se hace una tortilla de patatas?\"\n",
    "response = chatbot_rag(query)\n",
    "print(response.choices[0].message.content)"
   ]
  },
  {
   "cell_type": "code",
   "execution_count": 167,
   "id": "74c4894f-cb95-4f4a-87f7-ea29b9b01263",
   "metadata": {},
   "outputs": [
    {
     "name": "stdout",
     "output_type": "stream",
     "text": [
      "Para convertir un diccionario en una lista en Python, puedes utilizar la función `list()` aplicada al diccionario. Esto convertirá las claves del diccionario en elementos de la lista. Aquí tienes un ejemplo:\n",
      "\n",
      "```python\n",
      "mi_diccionario = {'a': 1, 'b': 2, 'c': 3}\n",
      "mi_lista = list(mi_diccionario)\n",
      "print(mi_lista)  # Salida: ['a', 'b', 'c']\n",
      "```\n",
      "\n",
      "En este caso, la función `list()` convierte las claves del diccionario en una lista de strings. Si quieres convertir los valores del diccionario en una lista, puedes usar el método `values()` del diccionario, de la siguiente forma:\n",
      "\n",
      "```python\n",
      "valores = list(mi_diccionario.values())\n",
      "print(valores)  # Salida: [1, 2, 3]\n",
      "```\n",
      "\n",
      "Espero que esta información te sea útil. Si tienes alguna otra pregunta, no dudes en preguntar.\n"
     ]
    }
   ],
   "source": [
    "print(response.choices[0].message.content)"
   ]
  },
  {
   "cell_type": "code",
   "execution_count": null,
   "id": "d1c6fe25-a122-409b-824a-5538799476ff",
   "metadata": {},
   "outputs": [],
   "source": []
  }
 ],
 "metadata": {
  "kernelspec": {
   "display_name": "Python 3 (ipykernel)",
   "language": "python",
   "name": "python3"
  },
  "language_info": {
   "codemirror_mode": {
    "name": "ipython",
    "version": 3
   },
   "file_extension": ".py",
   "mimetype": "text/x-python",
   "name": "python",
   "nbconvert_exporter": "python",
   "pygments_lexer": "ipython3",
   "version": "3.11.7"
  }
 },
 "nbformat": 4,
 "nbformat_minor": 5
}
